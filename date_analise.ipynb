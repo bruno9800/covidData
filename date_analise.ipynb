{
 "cells": [
  {
   "cell_type": "markdown",
   "id": "02957909-ce50-45fa-935e-64b18714b621",
   "metadata": {
    "tags": []
   },
   "source": [
    "# Analise dos dados do covid 19 para a cidade de Belo Jardim-PE\n",
    "\n",
    "  Esse trabalho foi realizado para disciplina de cálculo numérico com o objetivo de aperfeiçoar os conhecimentos \n",
    "  na disciplina. Para isso, nesse projeto  foi realizado:\n",
    "\n",
    "   - A média móvel em um intervalo de 7 dias\n",
    "   - A análise da curva ideal para com a função A + Bx + Cx^2 a partir do método dos minimos quadrados\n",
    "   - O cálculo do erro do ajuste\n",
    "   - O cálculo do erro relativo a partir de uma previsão. "
   ]
  },
  {
   "cell_type": "markdown",
   "id": "2ec0239f-e3c8-4da9-aaee-dd37e00e9056",
   "metadata": {},
   "source": [
    " ### primeiros passos\n",
    "   Ao obter os dados do covid com o link: https://covid.saude.gov.br/, foi necessario uma mesclagem, pois os dados estavam separados em 2 partes<br>\n",
    "   Para realizar as operações de manipulação de tabela e realizar operações matematicas com o mesmo, foi utilizado 2 bibliotecas: pandas e numpy."
   ]
  },
  {
   "cell_type": "code",
   "execution_count": 3,
   "id": "a5c21ea6-c8b6-40b0-b9a2-d71a0e192c8f",
   "metadata": {
    "tags": []
   },
   "outputs": [],
   "source": [
    "import pandas as pd\n",
    "import numpy as np\n",
    "import matplotlib.pyplot as plt\n",
    "\n",
    "tabela_1 = pd.read_csv(\"covid09ago2022-p1.csv\", sep=\";\")\n",
    "tabela_2 = pd.read_csv(\"covid09ago2022-p2.csv\", sep=\";\")\n",
    "tabela = pd.merge(tabela_1, tabela_2, how = 'outer')"
   ]
  },
  {
   "cell_type": "markdown",
   "id": "3dc4037f-ea1a-4b75-aab6-63fad48e2e7e",
   "metadata": {},
   "source": [
    "<br>\n",
    "  <strong>Agora com a tabela pronta para manipulação, o proximo passo foi reestruturar essa tabela apenas com os dados que serão utilizados</strong>\n",
    " <br>\n",
    " <br>"
   ]
  },
  {
   "cell_type": "code",
   "execution_count": 4,
   "id": "d8a36ff0-36d5-485c-a62f-3325377a1c74",
   "metadata": {},
   "outputs": [
    {
     "data": {
      "text/html": [
       "<div>\n",
       "<style scoped>\n",
       "    .dataframe tbody tr th:only-of-type {\n",
       "        vertical-align: middle;\n",
       "    }\n",
       "\n",
       "    .dataframe tbody tr th {\n",
       "        vertical-align: top;\n",
       "    }\n",
       "\n",
       "    .dataframe thead th {\n",
       "        text-align: right;\n",
       "    }\n",
       "</style>\n",
       "<table border=\"1\" class=\"dataframe\">\n",
       "  <thead>\n",
       "    <tr style=\"text-align: right;\">\n",
       "      <th></th>\n",
       "      <th>estado</th>\n",
       "      <th>municipio</th>\n",
       "      <th>obitosNovos</th>\n",
       "      <th>casosNovos</th>\n",
       "      <th>casosAcumulado</th>\n",
       "    </tr>\n",
       "    <tr>\n",
       "      <th>data</th>\n",
       "      <th></th>\n",
       "      <th></th>\n",
       "      <th></th>\n",
       "      <th></th>\n",
       "      <th></th>\n",
       "    </tr>\n",
       "  </thead>\n",
       "  <tbody>\n",
       "    <tr>\n",
       "      <th>2022-01-01</th>\n",
       "      <td>PE</td>\n",
       "      <td>Belo Jardim</td>\n",
       "      <td>0</td>\n",
       "      <td>0</td>\n",
       "      <td>4674.0</td>\n",
       "    </tr>\n",
       "    <tr>\n",
       "      <th>2022-01-02</th>\n",
       "      <td>PE</td>\n",
       "      <td>Belo Jardim</td>\n",
       "      <td>0</td>\n",
       "      <td>0</td>\n",
       "      <td>4674.0</td>\n",
       "    </tr>\n",
       "    <tr>\n",
       "      <th>2022-01-03</th>\n",
       "      <td>PE</td>\n",
       "      <td>Belo Jardim</td>\n",
       "      <td>0</td>\n",
       "      <td>0</td>\n",
       "      <td>4674.0</td>\n",
       "    </tr>\n",
       "    <tr>\n",
       "      <th>2022-01-04</th>\n",
       "      <td>PE</td>\n",
       "      <td>Belo Jardim</td>\n",
       "      <td>0</td>\n",
       "      <td>1</td>\n",
       "      <td>4675.0</td>\n",
       "    </tr>\n",
       "    <tr>\n",
       "      <th>2022-01-05</th>\n",
       "      <td>PE</td>\n",
       "      <td>Belo Jardim</td>\n",
       "      <td>0</td>\n",
       "      <td>4</td>\n",
       "      <td>4679.0</td>\n",
       "    </tr>\n",
       "    <tr>\n",
       "      <th>...</th>\n",
       "      <td>...</td>\n",
       "      <td>...</td>\n",
       "      <td>...</td>\n",
       "      <td>...</td>\n",
       "      <td>...</td>\n",
       "    </tr>\n",
       "    <tr>\n",
       "      <th>2022-08-05</th>\n",
       "      <td>PE</td>\n",
       "      <td>Belo Jardim</td>\n",
       "      <td>0</td>\n",
       "      <td>1</td>\n",
       "      <td>10044.0</td>\n",
       "    </tr>\n",
       "    <tr>\n",
       "      <th>2022-08-06</th>\n",
       "      <td>PE</td>\n",
       "      <td>Belo Jardim</td>\n",
       "      <td>0</td>\n",
       "      <td>0</td>\n",
       "      <td>10044.0</td>\n",
       "    </tr>\n",
       "    <tr>\n",
       "      <th>2022-08-07</th>\n",
       "      <td>PE</td>\n",
       "      <td>Belo Jardim</td>\n",
       "      <td>0</td>\n",
       "      <td>0</td>\n",
       "      <td>10044.0</td>\n",
       "    </tr>\n",
       "    <tr>\n",
       "      <th>2022-08-08</th>\n",
       "      <td>PE</td>\n",
       "      <td>Belo Jardim</td>\n",
       "      <td>0</td>\n",
       "      <td>0</td>\n",
       "      <td>10044.0</td>\n",
       "    </tr>\n",
       "    <tr>\n",
       "      <th>2022-08-09</th>\n",
       "      <td>PE</td>\n",
       "      <td>Belo Jardim</td>\n",
       "      <td>0</td>\n",
       "      <td>2</td>\n",
       "      <td>10046.0</td>\n",
       "    </tr>\n",
       "  </tbody>\n",
       "</table>\n",
       "<p>221 rows × 5 columns</p>\n",
       "</div>"
      ],
      "text/plain": [
       "           estado    municipio  obitosNovos  casosNovos  casosAcumulado\n",
       "data                                                                   \n",
       "2022-01-01     PE  Belo Jardim            0           0          4674.0\n",
       "2022-01-02     PE  Belo Jardim            0           0          4674.0\n",
       "2022-01-03     PE  Belo Jardim            0           0          4674.0\n",
       "2022-01-04     PE  Belo Jardim            0           1          4675.0\n",
       "2022-01-05     PE  Belo Jardim            0           4          4679.0\n",
       "...           ...          ...          ...         ...             ...\n",
       "2022-08-05     PE  Belo Jardim            0           1         10044.0\n",
       "2022-08-06     PE  Belo Jardim            0           0         10044.0\n",
       "2022-08-07     PE  Belo Jardim            0           0         10044.0\n",
       "2022-08-08     PE  Belo Jardim            0           0         10044.0\n",
       "2022-08-09     PE  Belo Jardim            0           2         10046.0\n",
       "\n",
       "[221 rows x 5 columns]"
      ]
     },
     "metadata": {},
     "output_type": "display_data"
    }
   ],
   "source": [
    "tabela_mask = tabela[\"municipio\"] == \"Belo Jardim\"\n",
    "tabela_bl = tabela[tabela_mask]\n",
    "tabela_bl = tabela_bl.iloc[ : , [ 1, 2, 13, 7, 11, 10]].reset_index( drop = True).set_index('data')\n",
    "display(tabela_bl)"
   ]
  },
  {
   "cell_type": "markdown",
   "id": "9d7386e3-9047-425c-b888-4f7eac021e6b",
   "metadata": {},
   "source": [
    " - ### Média movel e seu grafico respectivo\n",
    " <br>\n",
    "     Nessa celula, os valores dos casos novos foram armazenados separadamente, para o calculo\n",
    "     da média móvel. Onde o primeiro 'for' indica e inicio e o final dos dados que quero coletar e o segundo 'for'\n",
    "     para realizar a média dentro dos valores desejados, retornando isso em uma nova lista de dados"
   ]
  },
  {
   "cell_type": "code",
   "execution_count": 5,
   "id": "5a0b944c-ddd8-4bb3-afb0-a04d5569d648",
   "metadata": {
    "tags": []
   },
   "outputs": [],
   "source": [
    "casos = tabela_bl['casosNovos'].values.astype(int)\n",
    "media_casos = []\n",
    "for x in range(6, casos.size):\n",
    "    sum = 0\n",
    "    for i in range( x-6, x + 1):\n",
    "        sum += casos[i]\n",
    "    \n",
    "    media_casos.append(sum / float(7))\n",
    "    "
   ]
  },
  {
   "cell_type": "code",
   "execution_count": 6,
   "id": "18b3ae34-84c6-4ad3-bada-623fa156acaa",
   "metadata": {},
   "outputs": [
    {
     "data": {
      "text/html": [
       "<div>\n",
       "<style scoped>\n",
       "    .dataframe tbody tr th:only-of-type {\n",
       "        vertical-align: middle;\n",
       "    }\n",
       "\n",
       "    .dataframe tbody tr th {\n",
       "        vertical-align: top;\n",
       "    }\n",
       "\n",
       "    .dataframe thead th {\n",
       "        text-align: right;\n",
       "    }\n",
       "</style>\n",
       "<table border=\"1\" class=\"dataframe\">\n",
       "  <thead>\n",
       "    <tr style=\"text-align: right;\">\n",
       "      <th></th>\n",
       "      <th>casosNovos</th>\n",
       "      <th>mediaMovel</th>\n",
       "    </tr>\n",
       "    <tr>\n",
       "      <th>data</th>\n",
       "      <th></th>\n",
       "      <th></th>\n",
       "    </tr>\n",
       "  </thead>\n",
       "  <tbody>\n",
       "    <tr>\n",
       "      <th>2022-01-07</th>\n",
       "      <td>1</td>\n",
       "      <td>1.000000</td>\n",
       "    </tr>\n",
       "    <tr>\n",
       "      <th>2022-01-08</th>\n",
       "      <td>2</td>\n",
       "      <td>1.285714</td>\n",
       "    </tr>\n",
       "    <tr>\n",
       "      <th>2022-01-09</th>\n",
       "      <td>2</td>\n",
       "      <td>1.571429</td>\n",
       "    </tr>\n",
       "    <tr>\n",
       "      <th>2022-01-10</th>\n",
       "      <td>0</td>\n",
       "      <td>1.571429</td>\n",
       "    </tr>\n",
       "    <tr>\n",
       "      <th>2022-01-11</th>\n",
       "      <td>2</td>\n",
       "      <td>1.714286</td>\n",
       "    </tr>\n",
       "    <tr>\n",
       "      <th>...</th>\n",
       "      <td>...</td>\n",
       "      <td>...</td>\n",
       "    </tr>\n",
       "    <tr>\n",
       "      <th>2022-08-05</th>\n",
       "      <td>1</td>\n",
       "      <td>1.142857</td>\n",
       "    </tr>\n",
       "    <tr>\n",
       "      <th>2022-08-06</th>\n",
       "      <td>0</td>\n",
       "      <td>0.714286</td>\n",
       "    </tr>\n",
       "    <tr>\n",
       "      <th>2022-08-07</th>\n",
       "      <td>0</td>\n",
       "      <td>0.571429</td>\n",
       "    </tr>\n",
       "    <tr>\n",
       "      <th>2022-08-08</th>\n",
       "      <td>0</td>\n",
       "      <td>0.571429</td>\n",
       "    </tr>\n",
       "    <tr>\n",
       "      <th>2022-08-09</th>\n",
       "      <td>2</td>\n",
       "      <td>0.714286</td>\n",
       "    </tr>\n",
       "  </tbody>\n",
       "</table>\n",
       "<p>215 rows × 2 columns</p>\n",
       "</div>"
      ],
      "text/plain": [
       "            casosNovos  mediaMovel\n",
       "data                              \n",
       "2022-01-07           1    1.000000\n",
       "2022-01-08           2    1.285714\n",
       "2022-01-09           2    1.571429\n",
       "2022-01-10           0    1.571429\n",
       "2022-01-11           2    1.714286\n",
       "...                ...         ...\n",
       "2022-08-05           1    1.142857\n",
       "2022-08-06           0    0.714286\n",
       "2022-08-07           0    0.571429\n",
       "2022-08-08           0    0.571429\n",
       "2022-08-09           2    0.714286\n",
       "\n",
       "[215 rows x 2 columns]"
      ]
     },
     "metadata": {},
     "output_type": "display_data"
    }
   ],
   "source": [
    "tabela_bl_media = tabela_bl.iloc[ 6 : , [ 3]]\n",
    "tabela_bl_media['mediaMovel'] = media_casos\n",
    "#tabela_bl_media = tabela_bl_media.drop(columns=['casosNovos'])\n",
    "display(tabela_bl_media)\n"
   ]
  },
  {
   "cell_type": "code",
   "execution_count": 7,
   "id": "11b24062-937b-47ee-aaad-4db3bfc8b00f",
   "metadata": {},
   "outputs": [
    {
     "data": {
      "text/plain": [
       "<AxesSubplot:xlabel='data'>"
      ]
     },
     "execution_count": 7,
     "metadata": {},
     "output_type": "execute_result"
    },
    {
     "data": {
      "image/png": "[encoded data removed]",
      "text/plain": [
       "<Figure size 640x480 with 1 Axes>"
      ]
     },
     "metadata": {},
     "output_type": "display_data"
    }
   ],
   "source": [
    "tabela_bl_media.plot()"
   ]
  },
  {
   "cell_type": "markdown",
   "id": "203f054c-f47d-4a2e-8c9c-1c3fc5edbbef",
   "metadata": {
    "tags": []
   },
   "source": [
    " ## Método dos minimos quadrados \n",
    "   <br>\n",
    "   Sistema resolvido com eliminação de Gauss"
   ]
  },
  {
   "cell_type": "code",
   "execution_count": 183,
   "id": "787208b9-abf6-4603-8d34-a2b7998bbc93",
   "metadata": {},
   "outputs": [
    {
     "data": {
      "text/html": [
       "<div>\n",
       "<style scoped>\n",
       "    .dataframe tbody tr th:only-of-type {\n",
       "        vertical-align: middle;\n",
       "    }\n",
       "\n",
       "    .dataframe tbody tr th {\n",
       "        vertical-align: top;\n",
       "    }\n",
       "\n",
       "    .dataframe thead th {\n",
       "        text-align: right;\n",
       "    }\n",
       "</style>\n",
       "<table border=\"1\" class=\"dataframe\">\n",
       "  <thead>\n",
       "    <tr style=\"text-align: right;\">\n",
       "      <th></th>\n",
       "      <th>a1.pol</th>\n",
       "      <th>a2.pol</th>\n",
       "      <th>a3.pol</th>\n",
       "      <th>err.pol</th>\n",
       "      <th>previsao</th>\n",
       "      <th>casosAcumulado</th>\n",
       "      <th>erroPrevisao</th>\n",
       "    </tr>\n",
       "    <tr>\n",
       "      <th>data</th>\n",
       "      <th></th>\n",
       "      <th></th>\n",
       "      <th></th>\n",
       "      <th></th>\n",
       "      <th></th>\n",
       "      <th></th>\n",
       "      <th></th>\n",
       "    </tr>\n",
       "  </thead>\n",
       "  <tbody>\n",
       "    <tr>\n",
       "      <th>2022-01-22</th>\n",
       "      <td>4626.122085</td>\n",
       "      <td>6.100724</td>\n",
       "      <td>0.073618</td>\n",
       "      <td>0.002451</td>\n",
       "      <td>4795.969211</td>\n",
       "      <td>4775.0</td>\n",
       "      <td>0.00%</td>\n",
       "    </tr>\n",
       "    <tr>\n",
       "      <th>2022-01-23</th>\n",
       "      <td>4609.260427</td>\n",
       "      <td>7.400750</td>\n",
       "      <td>0.071869</td>\n",
       "      <td>0.004779</td>\n",
       "      <td>4817.496301</td>\n",
       "      <td>4784.0</td>\n",
       "      <td>0.01%</td>\n",
       "    </tr>\n",
       "    <tr>\n",
       "      <th>2022-01-24</th>\n",
       "      <td>4590.571846</td>\n",
       "      <td>8.690261</td>\n",
       "      <td>0.068541</td>\n",
       "      <td>0.008295</td>\n",
       "      <td>4838.617868</td>\n",
       "      <td>4787.0</td>\n",
       "      <td>0.00%</td>\n",
       "    </tr>\n",
       "    <tr>\n",
       "      <th>2022-01-25</th>\n",
       "      <td>4572.234068</td>\n",
       "      <td>9.797334</td>\n",
       "      <td>0.063305</td>\n",
       "      <td>0.003903</td>\n",
       "      <td>4856.732762</td>\n",
       "      <td>4825.0</td>\n",
       "      <td>0.01%</td>\n",
       "    </tr>\n",
       "    <tr>\n",
       "      <th>2022-01-26</th>\n",
       "      <td>4542.877871</td>\n",
       "      <td>11.598942</td>\n",
       "      <td>0.062316</td>\n",
       "      <td>0.008386</td>\n",
       "      <td>4886.575950</td>\n",
       "      <td>4913.0</td>\n",
       "      <td>0.02%</td>\n",
       "    </tr>\n",
       "    <tr>\n",
       "      <th>...</th>\n",
       "      <td>...</td>\n",
       "      <td>...</td>\n",
       "      <td>...</td>\n",
       "      <td>...</td>\n",
       "      <td>...</td>\n",
       "      <td>...</td>\n",
       "      <td>...</td>\n",
       "    </tr>\n",
       "    <tr>\n",
       "      <th>2022-08-05</th>\n",
       "      <td>9007.010724</td>\n",
       "      <td>4.968741</td>\n",
       "      <td>0.000011</td>\n",
       "      <td>0.003659</td>\n",
       "      <td>10085.725692</td>\n",
       "      <td>10044.0</td>\n",
       "      <td>0.00%</td>\n",
       "    </tr>\n",
       "    <tr>\n",
       "      <th>2022-08-06</th>\n",
       "      <td>9196.822345</td>\n",
       "      <td>4.039105</td>\n",
       "      <td>0.000008</td>\n",
       "      <td>0.002958</td>\n",
       "      <td>10077.750182</td>\n",
       "      <td>10044.0</td>\n",
       "      <td>0.00%</td>\n",
       "    </tr>\n",
       "    <tr>\n",
       "      <th>2022-08-07</th>\n",
       "      <td>9317.717804</td>\n",
       "      <td>3.447091</td>\n",
       "      <td>0.000007</td>\n",
       "      <td>0.002541</td>\n",
       "      <td>10072.972715</td>\n",
       "      <td>10044.0</td>\n",
       "      <td>0.00%</td>\n",
       "    </tr>\n",
       "    <tr>\n",
       "      <th>2022-08-08</th>\n",
       "      <td>9406.603990</td>\n",
       "      <td>3.012301</td>\n",
       "      <td>0.000006</td>\n",
       "      <td>0.002249</td>\n",
       "      <td>10069.607510</td>\n",
       "      <td>10044.0</td>\n",
       "      <td>0.00%</td>\n",
       "    </tr>\n",
       "    <tr>\n",
       "      <th>2022-08-09</th>\n",
       "      <td>9493.435655</td>\n",
       "      <td>2.590583</td>\n",
       "      <td>0.000005</td>\n",
       "      <td>0.001754</td>\n",
       "      <td>10066.208923</td>\n",
       "      <td>10046.0</td>\n",
       "      <td>-</td>\n",
       "    </tr>\n",
       "  </tbody>\n",
       "</table>\n",
       "<p>200 rows × 7 columns</p>\n",
       "</div>"
      ],
      "text/plain": [
       "                 a1.pol     a2.pol    a3.pol   err.pol      previsao  \\\n",
       "data                                                                   \n",
       "2022-01-22  4626.122085   6.100724  0.073618  0.002451   4795.969211   \n",
       "2022-01-23  4609.260427   7.400750  0.071869  0.004779   4817.496301   \n",
       "2022-01-24  4590.571846   8.690261  0.068541  0.008295   4838.617868   \n",
       "2022-01-25  4572.234068   9.797334  0.063305  0.003903   4856.732762   \n",
       "2022-01-26  4542.877871  11.598942  0.062316  0.008386   4886.575950   \n",
       "...                 ...        ...       ...       ...           ...   \n",
       "2022-08-05  9007.010724   4.968741  0.000011  0.003659  10085.725692   \n",
       "2022-08-06  9196.822345   4.039105  0.000008  0.002958  10077.750182   \n",
       "2022-08-07  9317.717804   3.447091  0.000007  0.002541  10072.972715   \n",
       "2022-08-08  9406.603990   3.012301  0.000006  0.002249  10069.607510   \n",
       "2022-08-09  9493.435655   2.590583  0.000005  0.001754  10066.208923   \n",
       "\n",
       "            casosAcumulado erroPrevisao  \n",
       "data                                     \n",
       "2022-01-22          4775.0        0.00%  \n",
       "2022-01-23          4784.0        0.01%  \n",
       "2022-01-24          4787.0        0.00%  \n",
       "2022-01-25          4825.0        0.01%  \n",
       "2022-01-26          4913.0        0.02%  \n",
       "...                    ...          ...  \n",
       "2022-08-05         10044.0        0.00%  \n",
       "2022-08-06         10044.0        0.00%  \n",
       "2022-08-07         10044.0        0.00%  \n",
       "2022-08-08         10044.0        0.00%  \n",
       "2022-08-09         10046.0            -  \n",
       "\n",
       "[200 rows x 7 columns]"
      ]
     },
     "metadata": {},
     "output_type": "display_data"
    }
   ],
   "source": [
    "from xmlrpc.client import Boolean\n",
    "\n",
    "\n",
    "def create_matrix(x):\n",
    "    matrix = np.empty((0, 3), float)\n",
    "    matrix = np.append(matrix, np.array([[x.size, x.sum(), (x**2).sum()]]), axis=0)\n",
    "    matrix = np.append(matrix, np.array([[x.sum(), (x**2).sum(), (x**2).sum()]]), axis=0)\n",
    "    matrix = np.append(matrix, np.array([[(x**2).sum(), (x**3).sum(), (x**4).sum()]]), axis=0)\n",
    "    return matrix\n",
    "\n",
    "def create_yValues_for_matrix(y, x):\n",
    "    matrix_result = np.empty((0, 3), int)\n",
    "    matrix_result = np.append(matrix_result, np.array([y.sum(), (x*y).sum(), ((x**2)*y).sum()]))\n",
    "    return matrix_result\n",
    "\n",
    "def gauss_method(matrix, results, visibility:Boolean):\n",
    "    alpha_values = np.empty((0, 3), float)\n",
    "    m2_1 = matrix[1][0] / matrix[0][0]\n",
    "    m3_1 = matrix[2][0] / matrix[0][0]\n",
    "    matrix[1] = matrix[1] - (m2_1 * matrix[0])\n",
    "    matrix[2] = matrix[2] - (m3_1 * matrix[0])\n",
    "    results[1] = results[1] - (m2_1 * results[0])\n",
    "    results[2] = results[2] - (m3_1 * results[0])\n",
    "    m3_2 = matrix[2][1] / matrix[1][1]\n",
    "    matrix[2] = matrix[2] - (m3_2 * matrix[1])\n",
    "\n",
    "    alpha_3 = results[2] / matrix[2][2]\n",
    "    alpha_2 = (results[1] - (matrix[1][2] * alpha_3))/ matrix[1][1]\n",
    "    alpha_1 = (results[0] - (matrix[0][1] * alpha_2) - matrix[0][2] * alpha_3) / matrix[0][0]\n",
    "    alpha_values = np.append(alpha_values, np.array([alpha_1, alpha_2, alpha_3]))\n",
    "    if visibility:\n",
    "        print(matrix)\n",
    "        print(results)\n",
    "\n",
    "    return alpha_values\n",
    "                             \n",
    "tabela_MQ = tabela_bl.iloc[  : ,  4]\n",
    "casos_confirmados = tabela_MQ.values.astype(int)\n",
    "a1 = []\n",
    "a2 = []\n",
    "a3 = []\n",
    "erro = []\n",
    "erro_previsao = []\n",
    "previsao = []\n",
    "\n",
    "sum = 0\n",
    "for x in range(21, casos_confirmados.size):\n",
    "    sum +=1\n",
    "    x_values = np.empty((0, 20), int)\n",
    "    y_values = np.empty((0, 20), int)\n",
    "    for i in range( x-21, x):\n",
    "        x_values = np.append(x_values, i)\n",
    "        y_values = np.append(y_values, casos_confirmados[i])     \n",
    "    matrix = create_matrix(x_values)\n",
    "    matrix_result = create_yValues_for_matrix(y_values, x_values)\n",
    "    alphas = gauss_method(matrix, matrix_result, False)\n",
    "    a1.append(alphas[0])\n",
    "    a2.append(alphas[1])\n",
    "    a3.append(alphas[2])\n",
    "    erro.append( (abs(alphas[0] + alphas[1]*x + alphas[2]*(x**2) - tabela_MQ[x]) / tabela_MQ[x]))\n",
    "    function_value = (alphas[0] + alphas[1]*(x)) + alphas[2]*((x)**2)\n",
    "    prev_value = (alphas[0] + alphas[1]*(x+1)) + alphas[2]*((x+1)**2)\n",
    "    previsao.append(prev_value)\n",
    "    if  x!= tabela_MQ.size-1:\n",
    "        err_prev_value = (abs( prev_value - tabela_MQ[x+1]) / tabela_MQ[x+1])\n",
    "\n",
    "        erro_previsao.append( '{0:.2f}%'.format(err_prev_value))\n",
    "    else:\n",
    "        erro_previsao.append('-')\n",
    "\n",
    "\n",
    "\n",
    "tabela_MQ = tabela_MQ.to_frame()\n",
    "tabela_MQ = tabela_MQ[tabela_MQ.index>=\"2022-01-22\"]\n",
    "tabela_MQ.insert(0,'previsao', previsao)\n",
    "tabela_MQ.insert(0, 'err.pol', erro)\n",
    "tabela_MQ.insert(0, 'a3.pol', a3)\n",
    "tabela_MQ.insert(0, 'a2.pol', a2)\n",
    "tabela_MQ.insert(0, 'a1.pol', a1)\n",
    "tabela_MQ['erroPrevisao'] = erro_previsao\n",
    "display(tabela_MQ)"
   ]
  },
  {
   "cell_type": "markdown",
   "id": "a0c946c8",
   "metadata": {},
   "source": [
    " ## Agora com a planilha MMQ pronta, um plot deve ser realizado para a visualização desses dados\n",
    "\n",
    "    esse plot será feito a partir da mesclagem de dois graficos"
   ]
  },
  {
   "cell_type": "markdown",
   "id": "6d664099",
   "metadata": {},
   "source": [
    " ## Primeiro Plot do ajuste\n",
    "  O primeiro plot será realizado durante o surto de casos novos ocorridos na cidade no mês de janeiro ao final do mês de fevereiro, portanto é esperado uma dificuldade em realizar o ajuste"
   ]
  },
  {
   "cell_type": "code",
   "execution_count": 170,
   "id": "7e67e29f-f9b9-4018-a853-0c1e7f66f55e",
   "metadata": {},
   "outputs": [
    {
     "data": {
      "text/plain": [
       "<Figure size 300x200 with 0 Axes>"
      ]
     },
     "metadata": {},
     "output_type": "display_data"
    },
    {
     "data": {
      "image/png": "[encoded data removed]",
      "text/plain": [
       "<Figure size 640x480 with 1 Axes>"
      ]
     },
     "metadata": {},
     "output_type": "display_data"
    }
   ],
   "source": [
    "\n",
    "\n",
    "plt.figure(figsize = (3, 2))\n",
    "mask_data = tabela_MQ[tabela_MQ.index <= '2022-02-26']\n",
    "graf_previsoes = mask_data.reset_index().plot(kind='scatter', marker='.', x='data', y='previsao')\n",
    "#plt.scatter(tabela_MQ.index, tabela_MQ['previsao'], )\n",
    "graf_acumulados = plt.plot(mask_data['casosAcumulado'], c='k')"
   ]
  },
  {
   "cell_type": "markdown",
   "id": "c028e3a2",
   "metadata": {},
   "source": [
    "  ##  segundo plot\n",
    "   \n",
    "    foi selecionado o periodo em que o o numero de casos novos se manteve constante, logo o ajuste esperado deverá ser muito proximo da realidade e com previsões precisas."
   ]
  },
  {
   "cell_type": "code",
   "execution_count": 182,
   "id": "c739f703",
   "metadata": {},
   "outputs": [
    {
     "data": {
      "text/plain": [
       "<Figure size 300x200 with 0 Axes>"
      ]
     },
     "metadata": {},
     "output_type": "display_data"
    },
    {
     "data": {
      "image/png": "[encoded data removed]",
      "text/plain": [
       "<Figure size 640x480 with 1 Axes>"
      ]
     },
     "metadata": {},
     "output_type": "display_data"
    }
   ],
   "source": [
    "\n",
    "plt.figure(figsize = (3, 2))\n",
    "mask_data = tabela_MQ[tabela_MQ.index >= '2022-03-26']\n",
    "mask_data = mask_data[mask_data.index <= '2022-06-26']\n",
    "graf_previsoes = mask_data.reset_index().plot(kind='scatter', marker='.', x='data', y='previsao')\n",
    "#plt.scatter(tabela_MQ.index, tabela_MQ['previsao'], )\n",
    "graf_acumulados = plt.plot(mask_data['casosAcumulado'], c='k')"
   ]
  },
  {
   "cell_type": "markdown",
   "id": "ea45d93f",
   "metadata": {},
   "source": [
    " ## Terceiro Plot\n",
    " \n",
    "     É possivel notar que no ultimo plot realizado, ouve um crescimento exponencial no numero de casos durante o mês de junho, esse fato acaba deturpando o ajuste para realizar possiveis previsões precisas. Levando isso em consideração, se no mês de agosto o número de casos novos voltar a ficar sob controle, resultará em previsões ainda tendendo ao crescimento, gerando assim uma imprecisão maior, como visto no plot abaixo."
   ]
  },
  {
   "cell_type": "code",
   "execution_count": 176,
   "id": "845d8497",
   "metadata": {},
   "outputs": [
    {
     "data": {
      "text/plain": [
       "<Figure size 300x200 with 0 Axes>"
      ]
     },
     "metadata": {},
     "output_type": "display_data"
    },
    {
     "data": {
      "image/png": "[encoded data removed]",
      "text/plain": [
       "<Figure size 640x480 with 1 Axes>"
      ]
     },
     "metadata": {},
     "output_type": "display_data"
    }
   ],
   "source": [
    "plt.figure(figsize = (3, 2))\n",
    "mask_data = tabela_MQ[tabela_MQ.index >= '2022-06-26']\n",
    "mask_data = mask_data[mask_data.index <= '2022-08-00']\n",
    "graf_previsoes = mask_data.reset_index().plot(kind='scatter', marker='.', x='data', y='previsao')\n",
    "#plt.scatter(tabela_MQ.index, tabela_MQ['previsao'], )\n",
    "graf_acumulados = plt.plot(mask_data['casosAcumulado'], c='k')"
   ]
  },
  {
   "cell_type": "markdown",
   "id": "5171eb61",
   "metadata": {},
   "source": [
    "  ## Resumindo\n",
    "\n",
    "    A partir da análise desses dados, é possível notar 2 surtos de covid na cidade de Belo Jardim-PE em relação ao primeiro muito não foi possível chegar a uma conclusão sobre o porquê, porém no segundo surto que ocorreu durante o mês de junho e julho, pode ser resultado de um festival realizado na cidade durante esse período, o festival Festa das Marocas, que nesse ano foi realizado a sua 53º edição. Mesmo levando isso em consideração, não pode ser considerado como o verdadeiro motivo, já que a ação do covid não está simplesmente diretamente ligada a aglomeração, além disso deve se levar em consideração as ondas de surtos ocorridos, onde após cada surto o covid se estabiliza e volta futuramente com uma onda menor que a anterior, como foi apresentado também no gráfico móvel."
   ]
  },
  {
   "cell_type": "markdown",
   "id": "8c9002a1",
   "metadata": {},
   "source": [
    "<br>\n",
    "\n",
    "*obs: As células abaixo servem apenas para demostrar o funcionamento das funções que constroem a matriz pelo método MMQ*"
   ]
  },
  {
   "cell_type": "code",
   "execution_count": 188,
   "id": "fd39789d",
   "metadata": {},
   "outputs": [
    {
     "name": "stdout",
     "output_type": "stream",
     "text": [
      "sistema linear gerado a partir do MMQ: \n",
      "[[ 4.  2.  6.]\n",
      " [ 2.  6.  6.]\n",
      " [ 6.  8. 18.]]\n",
      "[ 6 14 28]\n",
      "\n",
      "Aplicando metodo de Gauss:\n",
      "[[4. 2. 6.]\n",
      " [0. 5. 3.]\n",
      " [0. 0. 6.]]\n",
      "[ 6 11 19]\n"
     ]
    }
   ],
   "source": [
    "teste_x = np.array([-1, 0, 1, 2])\n",
    "teste_y = np.array([0, -1, 0, 7])\n",
    "matrix_teste = create_matrix(teste_x)\n",
    "matrix_result_teste = create_yValues_for_matrix(teste_y, teste_x)\n",
    "print(\"sistema linear gerado a partir do MMQ: \")\n",
    "print(matrix_teste)\n",
    "print(matrix_result_teste)\n",
    "print(\"\\nAplicando metodo de Gauss:\")\n",
    "teste_alphas = gauss_method(matrix_teste, matrix_result_teste, True)"
   ]
  },
  {
   "cell_type": "code",
   "execution_count": null,
   "id": "9fed0596",
   "metadata": {},
   "outputs": [],
   "source": []
  }
 ],
 "metadata": {
  "kernelspec": {
   "display_name": "Python 3.10.4 64-bit",
   "language": "python",
   "name": "python3"
  },
  "language_info": {
   "codemirror_mode": {
    "name": "ipython",
    "version": 3
   },
   "file_extension": ".py",
   "mimetype": "text/x-python",
   "name": "python",
   "nbconvert_exporter": "python",
   "pygments_lexer": "ipython3",
   "version": "3.10.4"
  },
  "vscode": {
   "interpreter": {
    "hash": "916dbcbb3f70747c44a77c7bcd40155683ae19c65e1c03b4aa3499c5328201f1"
   }
  }
 },
 "nbformat": 4,
 "nbformat_minor": 5
}
