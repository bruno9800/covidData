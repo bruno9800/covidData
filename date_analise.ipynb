{
 "cells": [
  {
   "cell_type": "markdown",
   "id": "02957909-ce50-45fa-935e-64b18714b621",
   "metadata": {
    "tags": []
   },
   "source": [
    "# Analise dos dados do covid 19 para a cidade de Belo Jardim-PE\n",
    "\n",
    "  Esse trabalho foi realizado para disciplina de cálculo numérico com o objetivo de aperfeiçoar os conhecimentos \n",
    "  na disciplina. Para isso, nesse projeto  foi realizado:\n",
    "\n",
    "   - A média móvel em um intervalo de 7 dias\n",
    "   - A análise da curva ideal para com a função A + Bx + Cx^2 a partir do método dos minimos quadrados\n",
    "   - O cálculo do erro do ajuste\n",
    "   - O cálculo do erro relativo a partir de uma previsão. "
   ]
  },
  {
   "cell_type": "markdown",
   "id": "2ec0239f-e3c8-4da9-aaee-dd37e00e9056",
   "metadata": {},
   "source": [
    " ### primeiros passos\n",
    "   Ao obter os dados do covid com o link: https://covid.saude.gov.br/, foi necessario uma mesclagem, pois os dados estavam separados em 2 partes<br>\n",
    "   Para realizar as operações de manipulação de tabela e realizar operações matematicas com o mesmo, foi utilizado 2 bibliotecas: pandas e numpy."
   ]
  },
  {
   "cell_type": "code",
   "execution_count": 1,
   "id": "a5c21ea6-c8b6-40b0-b9a2-d71a0e192c8f",
   "metadata": {
    "tags": []
   },
   "outputs": [],
   "source": [
    "import pandas as pd\n",
    "import numpy as np\n",
    "\n",
    "tabela_1 = pd.read_csv(\"covid09ago2022-p1.csv\", sep=\";\")\n",
    "tabela_2 = pd.read_csv(\"covid09ago2022-p2.csv\", sep=\";\")\n",
    "tabela = pd.merge(tabela_1, tabela_2, how = 'outer')"
   ]
  },
  {
   "cell_type": "markdown",
   "id": "3dc4037f-ea1a-4b75-aab6-63fad48e2e7e",
   "metadata": {},
   "source": [
    "<br>\n",
    "  <strong>Agora com a tabela pronta para manipulação, o proximo passo foi reestruturar essa tabela apenas com os dados que serão utilizados</strong>\n",
    " <br>\n",
    " <br>"
   ]
  },
  {
   "cell_type": "code",
   "execution_count": 2,
   "id": "d8a36ff0-36d5-485c-a62f-3325377a1c74",
   "metadata": {},
   "outputs": [
    {
     "data": {
      "text/html": [
       "<div>\n",
       "<style scoped>\n",
       "    .dataframe tbody tr th:only-of-type {\n",
       "        vertical-align: middle;\n",
       "    }\n",
       "\n",
       "    .dataframe tbody tr th {\n",
       "        vertical-align: top;\n",
       "    }\n",
       "\n",
       "    .dataframe thead th {\n",
       "        text-align: right;\n",
       "    }\n",
       "</style>\n",
       "<table border=\"1\" class=\"dataframe\">\n",
       "  <thead>\n",
       "    <tr style=\"text-align: right;\">\n",
       "      <th></th>\n",
       "      <th>estado</th>\n",
       "      <th>municipio</th>\n",
       "      <th>obitosNovos</th>\n",
       "      <th>casosNovos</th>\n",
       "      <th>casosAcumulado</th>\n",
       "    </tr>\n",
       "    <tr>\n",
       "      <th>data</th>\n",
       "      <th></th>\n",
       "      <th></th>\n",
       "      <th></th>\n",
       "      <th></th>\n",
       "      <th></th>\n",
       "    </tr>\n",
       "  </thead>\n",
       "  <tbody>\n",
       "    <tr>\n",
       "      <th>2022-01-01</th>\n",
       "      <td>PE</td>\n",
       "      <td>Belo Jardim</td>\n",
       "      <td>0</td>\n",
       "      <td>0</td>\n",
       "      <td>4674.0</td>\n",
       "    </tr>\n",
       "    <tr>\n",
       "      <th>2022-01-02</th>\n",
       "      <td>PE</td>\n",
       "      <td>Belo Jardim</td>\n",
       "      <td>0</td>\n",
       "      <td>0</td>\n",
       "      <td>4674.0</td>\n",
       "    </tr>\n",
       "    <tr>\n",
       "      <th>2022-01-03</th>\n",
       "      <td>PE</td>\n",
       "      <td>Belo Jardim</td>\n",
       "      <td>0</td>\n",
       "      <td>0</td>\n",
       "      <td>4674.0</td>\n",
       "    </tr>\n",
       "    <tr>\n",
       "      <th>2022-01-04</th>\n",
       "      <td>PE</td>\n",
       "      <td>Belo Jardim</td>\n",
       "      <td>0</td>\n",
       "      <td>1</td>\n",
       "      <td>4675.0</td>\n",
       "    </tr>\n",
       "    <tr>\n",
       "      <th>2022-01-05</th>\n",
       "      <td>PE</td>\n",
       "      <td>Belo Jardim</td>\n",
       "      <td>0</td>\n",
       "      <td>4</td>\n",
       "      <td>4679.0</td>\n",
       "    </tr>\n",
       "    <tr>\n",
       "      <th>...</th>\n",
       "      <td>...</td>\n",
       "      <td>...</td>\n",
       "      <td>...</td>\n",
       "      <td>...</td>\n",
       "      <td>...</td>\n",
       "    </tr>\n",
       "    <tr>\n",
       "      <th>2022-08-05</th>\n",
       "      <td>PE</td>\n",
       "      <td>Belo Jardim</td>\n",
       "      <td>0</td>\n",
       "      <td>1</td>\n",
       "      <td>10044.0</td>\n",
       "    </tr>\n",
       "    <tr>\n",
       "      <th>2022-08-06</th>\n",
       "      <td>PE</td>\n",
       "      <td>Belo Jardim</td>\n",
       "      <td>0</td>\n",
       "      <td>0</td>\n",
       "      <td>10044.0</td>\n",
       "    </tr>\n",
       "    <tr>\n",
       "      <th>2022-08-07</th>\n",
       "      <td>PE</td>\n",
       "      <td>Belo Jardim</td>\n",
       "      <td>0</td>\n",
       "      <td>0</td>\n",
       "      <td>10044.0</td>\n",
       "    </tr>\n",
       "    <tr>\n",
       "      <th>2022-08-08</th>\n",
       "      <td>PE</td>\n",
       "      <td>Belo Jardim</td>\n",
       "      <td>0</td>\n",
       "      <td>0</td>\n",
       "      <td>10044.0</td>\n",
       "    </tr>\n",
       "    <tr>\n",
       "      <th>2022-08-09</th>\n",
       "      <td>PE</td>\n",
       "      <td>Belo Jardim</td>\n",
       "      <td>0</td>\n",
       "      <td>2</td>\n",
       "      <td>10046.0</td>\n",
       "    </tr>\n",
       "  </tbody>\n",
       "</table>\n",
       "<p>221 rows × 5 columns</p>\n",
       "</div>"
      ],
      "text/plain": [
       "           estado    municipio  obitosNovos  casosNovos  casosAcumulado\n",
       "data                                                                   \n",
       "2022-01-01     PE  Belo Jardim            0           0          4674.0\n",
       "2022-01-02     PE  Belo Jardim            0           0          4674.0\n",
       "2022-01-03     PE  Belo Jardim            0           0          4674.0\n",
       "2022-01-04     PE  Belo Jardim            0           1          4675.0\n",
       "2022-01-05     PE  Belo Jardim            0           4          4679.0\n",
       "...           ...          ...          ...         ...             ...\n",
       "2022-08-05     PE  Belo Jardim            0           1         10044.0\n",
       "2022-08-06     PE  Belo Jardim            0           0         10044.0\n",
       "2022-08-07     PE  Belo Jardim            0           0         10044.0\n",
       "2022-08-08     PE  Belo Jardim            0           0         10044.0\n",
       "2022-08-09     PE  Belo Jardim            0           2         10046.0\n",
       "\n",
       "[221 rows x 5 columns]"
      ]
     },
     "metadata": {},
     "output_type": "display_data"
    }
   ],
   "source": [
    "tabela_mask = tabela[\"municipio\"] == \"Belo Jardim\"\n",
    "tabela_bl = tabela[tabela_mask]\n",
    "tabela_bl = tabela_bl.iloc[ : , [ 1, 2, 13, 7, 11, 10]].reset_index( drop = True).set_index('data')\n",
    "display(tabela_bl)"
   ]
  },
  {
   "cell_type": "markdown",
   "id": "9d7386e3-9047-425c-b888-4f7eac021e6b",
   "metadata": {},
   "source": [
    " - ### Média movel e seu grafico respectivo\n",
    " <br>\n",
    "     Nessa celula, os valores dos casos novos foram armazenados separadamente, para o calculo\n",
    "     da média móvel. Onde o primeiro 'for' indica e inicio e o final dos dados que quero coletar e o segundo 'for'\n",
    "     para realizar a média dentro dos valores desejados, retornando isso em uma nova lista de dados"
   ]
  },
  {
   "cell_type": "code",
   "execution_count": 3,
   "id": "5a0b944c-ddd8-4bb3-afb0-a04d5569d648",
   "metadata": {
    "tags": []
   },
   "outputs": [],
   "source": [
    "casos = tabela_bl['casosNovos'].values.astype(int)\n",
    "media_casos = []\n",
    "for x in range(6, casos.size):\n",
    "    sum = 0\n",
    "    for i in range( x-6, x + 1):\n",
    "        sum += casos[i]\n",
    "    \n",
    "    media_casos.append(sum / float(7))\n",
    "    "
   ]
  },
  {
   "cell_type": "code",
   "execution_count": 4,
   "id": "18b3ae34-84c6-4ad3-bada-623fa156acaa",
   "metadata": {},
   "outputs": [
    {
     "data": {
      "text/html": [
       "<div>\n",
       "<style scoped>\n",
       "    .dataframe tbody tr th:only-of-type {\n",
       "        vertical-align: middle;\n",
       "    }\n",
       "\n",
       "    .dataframe tbody tr th {\n",
       "        vertical-align: top;\n",
       "    }\n",
       "\n",
       "    .dataframe thead th {\n",
       "        text-align: right;\n",
       "    }\n",
       "</style>\n",
       "<table border=\"1\" class=\"dataframe\">\n",
       "  <thead>\n",
       "    <tr style=\"text-align: right;\">\n",
       "      <th></th>\n",
       "      <th>casosNovos</th>\n",
       "      <th>mediaMovel</th>\n",
       "    </tr>\n",
       "    <tr>\n",
       "      <th>data</th>\n",
       "      <th></th>\n",
       "      <th></th>\n",
       "    </tr>\n",
       "  </thead>\n",
       "  <tbody>\n",
       "    <tr>\n",
       "      <th>2022-01-07</th>\n",
       "      <td>1</td>\n",
       "      <td>1.000000</td>\n",
       "    </tr>\n",
       "    <tr>\n",
       "      <th>2022-01-08</th>\n",
       "      <td>2</td>\n",
       "      <td>1.285714</td>\n",
       "    </tr>\n",
       "    <tr>\n",
       "      <th>2022-01-09</th>\n",
       "      <td>2</td>\n",
       "      <td>1.571429</td>\n",
       "    </tr>\n",
       "    <tr>\n",
       "      <th>2022-01-10</th>\n",
       "      <td>0</td>\n",
       "      <td>1.571429</td>\n",
       "    </tr>\n",
       "    <tr>\n",
       "      <th>2022-01-11</th>\n",
       "      <td>2</td>\n",
       "      <td>1.714286</td>\n",
       "    </tr>\n",
       "    <tr>\n",
       "      <th>...</th>\n",
       "      <td>...</td>\n",
       "      <td>...</td>\n",
       "    </tr>\n",
       "    <tr>\n",
       "      <th>2022-08-05</th>\n",
       "      <td>1</td>\n",
       "      <td>1.142857</td>\n",
       "    </tr>\n",
       "    <tr>\n",
       "      <th>2022-08-06</th>\n",
       "      <td>0</td>\n",
       "      <td>0.714286</td>\n",
       "    </tr>\n",
       "    <tr>\n",
       "      <th>2022-08-07</th>\n",
       "      <td>0</td>\n",
       "      <td>0.571429</td>\n",
       "    </tr>\n",
       "    <tr>\n",
       "      <th>2022-08-08</th>\n",
       "      <td>0</td>\n",
       "      <td>0.571429</td>\n",
       "    </tr>\n",
       "    <tr>\n",
       "      <th>2022-08-09</th>\n",
       "      <td>2</td>\n",
       "      <td>0.714286</td>\n",
       "    </tr>\n",
       "  </tbody>\n",
       "</table>\n",
       "<p>215 rows × 2 columns</p>\n",
       "</div>"
      ],
      "text/plain": [
       "            casosNovos  mediaMovel\n",
       "data                              \n",
       "2022-01-07           1    1.000000\n",
       "2022-01-08           2    1.285714\n",
       "2022-01-09           2    1.571429\n",
       "2022-01-10           0    1.571429\n",
       "2022-01-11           2    1.714286\n",
       "...                ...         ...\n",
       "2022-08-05           1    1.142857\n",
       "2022-08-06           0    0.714286\n",
       "2022-08-07           0    0.571429\n",
       "2022-08-08           0    0.571429\n",
       "2022-08-09           2    0.714286\n",
       "\n",
       "[215 rows x 2 columns]"
      ]
     },
     "metadata": {},
     "output_type": "display_data"
    }
   ],
   "source": [
    "tabela_bl_media = tabela_bl.iloc[ 6 : , [ 3]]\n",
    "tabela_bl_media['mediaMovel'] = media_casos\n",
    "#tabela_bl_media = tabela_bl_media.drop(columns=['casosNovos'])\n",
    "display(tabela_bl_media)\n"
   ]
  },
  {
   "cell_type": "code",
   "execution_count": 5,
   "id": "11b24062-937b-47ee-aaad-4db3bfc8b00f",
   "metadata": {},
   "outputs": [
    {
     "data": {
      "text/plain": [
       "<AxesSubplot:xlabel='data'>"
      ]
     },
     "execution_count": 5,
     "metadata": {},
     "output_type": "execute_result"
    },
    {
     "data": {
      "image/png": "[encoded data removed]",
      "text/plain": [
       "<Figure size 432x288 with 1 Axes>"
      ]
     },
     "metadata": {
      "needs_background": "light"
     },
     "output_type": "display_data"
    }
   ],
   "source": [
    "tabela_bl_media.plot()"
   ]
  },
  {
   "cell_type": "markdown",
   "id": "203f054c-f47d-4a2e-8c9c-1c3fc5edbbef",
   "metadata": {
    "tags": []
   },
   "source": [
    " ## Método dos minimos quadrados \n",
    "   <br>\n",
    "   Sistema resolvido com eliminação de Gauss"
   ]
  },
  {
   "cell_type": "code",
   "execution_count": 7,
   "id": "787208b9-abf6-4603-8d34-a2b7998bbc93",
   "metadata": {},
   "outputs": [
    {
     "ename": "OverflowError",
     "evalue": "Python int too large to convert to C long",
     "output_type": "error",
     "traceback": [
      "\u001b[1;31m---------------------------------------------------------------------------\u001b[0m",
      "\u001b[1;31mOverflowError\u001b[0m                             Traceback (most recent call last)",
      "Input \u001b[1;32mIn [7]\u001b[0m, in \u001b[0;36m<cell line: 33>\u001b[1;34m()\u001b[0m\n\u001b[0;32m     40\u001b[0m     matrix \u001b[38;5;241m=\u001b[39m create_matrix(x_values)\n\u001b[0;32m     41\u001b[0m     matrix_result \u001b[38;5;241m=\u001b[39m create_yValues_for_matrix(y_values, x_values)\n\u001b[1;32m---> 42\u001b[0m     \u001b[43mgauss_method\u001b[49m\u001b[43m(\u001b[49m\u001b[43mmatrix\u001b[49m\u001b[43m,\u001b[49m\u001b[43m \u001b[49m\u001b[43mmatrix_result\u001b[49m\u001b[43m)\u001b[49m\n\u001b[0;32m     43\u001b[0m \u001b[38;5;28mprint\u001b[39m(\u001b[38;5;124m\"\u001b[39m\u001b[38;5;124msaiu\u001b[39m\u001b[38;5;124m\"\u001b[39m)\n",
      "Input \u001b[1;32mIn [7]\u001b[0m, in \u001b[0;36mgauss_method\u001b[1;34m(matrix, results)\u001b[0m\n\u001b[0;32m     18\u001b[0m matrix[\u001b[38;5;241m2\u001b[39m] \u001b[38;5;241m=\u001b[39m matrix[\u001b[38;5;241m2\u001b[39m] \u001b[38;5;241m-\u001b[39m (m3_1 \u001b[38;5;241m*\u001b[39m matrix[\u001b[38;5;241m0\u001b[39m])\n\u001b[0;32m     19\u001b[0m results[\u001b[38;5;241m1\u001b[39m] \u001b[38;5;241m=\u001b[39m results[\u001b[38;5;241m1\u001b[39m] \u001b[38;5;241m-\u001b[39m (m2_1 \u001b[38;5;241m*\u001b[39m results[\u001b[38;5;241m0\u001b[39m])\n\u001b[1;32m---> 20\u001b[0m results[\u001b[38;5;241m2\u001b[39m] \u001b[38;5;241m=\u001b[39m results[\u001b[38;5;241m2\u001b[39m] \u001b[38;5;241m-\u001b[39m (m3_1 \u001b[38;5;241m*\u001b[39m results[\u001b[38;5;241m0\u001b[39m])\n",
      "\u001b[1;31mOverflowError\u001b[0m: Python int too large to convert to C long"
     ]
    }
   ],
   "source": [
    "def create_matrix(x):\n",
    "    matrix = np.empty((0, 3), float)\n",
    "    matrix = np.append(matrix, np.array([[21, x.sum(), (x**2).sum()]]), axis=0)\n",
    "    matrix = np.append(matrix, np.array([[x.sum(), (x**2).sum(), (x**2).sum()]]), axis=0)\n",
    "    matrix = np.append(matrix, np.array([[(x**2).sum(), (x**3).sum(), (x**4).sum()]]), axis=0)\n",
    "    return matrix\n",
    "\n",
    "def create_yValues_for_matrix(y, x):\n",
    "    matrix_result = np.empty((0, 3), int)\n",
    "    matrix_result = np.append(matrix_result, np.array([y.sum(), (x*y).sum(), ((x**2)*y).sum()]))\n",
    "    return matrix_result\n",
    "\n",
    "def gauss_method(matrix, results):\n",
    "    alpha_values = np.empty((0, 3), float)\n",
    "    m2_1 = matrix[1][0] / matrix[0][0]\n",
    "    m3_1 = matrix[2][0] / matrix[0][0]\n",
    "    matrix[1] = matrix[1] - (m2_1 * matrix[0])\n",
    "    matrix[2] = matrix[2] - (m3_1 * matrix[0])\n",
    "    results[1] = results[1] - (m2_1 * results[0])\n",
    "    results[2] = results[2] - (m3_1 * results[0])\n",
    "    #print(matrix)\n",
    "                             \n",
    "tabela_MQ = tabela_bl.iloc[  : ,  4]\n",
    "casos_confirmados = tabela_MQ.values.astype(int)\n",
    "a1 = []\n",
    "a2 = []\n",
    "a3 = []\n",
    "erro = []\n",
    "previsao = []\n",
    "erro_previ = []\n",
    "\n",
    "sum = 0\n",
    "for x in range(21, casos_confirmados.size):\n",
    "    sum +=1\n",
    "    x_values = np.empty((0, 20), int)\n",
    "    y_values = np.empty((0, 20), int)\n",
    "    for i in range( x-21, x+1):\n",
    "        x_values = np.append(x_values, i)\n",
    "        y_values = np.append(y_values, casos_confirmados[i])     \n",
    "    matrix = create_matrix(x_values)\n",
    "    matrix_result = create_yValues_for_matrix(y_values, x_values)\n",
    "    gauss_method(matrix, matrix_result)\n",
    "print(\"saiu\")"
   ]
  },
  {
   "cell_type": "code",
   "execution_count": 11,
   "id": "7e67e29f-f9b9-4018-a853-0c1e7f66f55e",
   "metadata": {},
   "outputs": [
    {
     "name": "stdout",
     "output_type": "stream",
     "text": [
      "5\n"
     ]
    }
   ],
   "source": [
    "xs = np.empty((0,3), int)\n",
    "xy = np.array([1,2,3])\n",
    "for i in range(3):\n",
    "    xs = np.append(xs, i)\n",
    "   \n",
    "\n",
    "print(xs.dot(xs))\n",
    "\n",
    "    "
   ]
  },
  {
   "cell_type": "code",
   "execution_count": null,
   "id": "890f0eb7-183f-4c6a-8e28-43bf86739c99",
   "metadata": {},
   "outputs": [],
   "source": []
  }
 ],
 "metadata": {
  "kernelspec": {
   "display_name": "Python 3 (ipykernel)",
   "language": "python",
   "name": "python3"
  },
  "language_info": {
   "codemirror_mode": {
    "name": "ipython",
    "version": 3
   },
   "file_extension": ".py",
   "mimetype": "text/x-python",
   "name": "python",
   "nbconvert_exporter": "python",
   "pygments_lexer": "ipython3",
   "version": "3.9.12"
  }
 },
 "nbformat": 4,
 "nbformat_minor": 5
}
